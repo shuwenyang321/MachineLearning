{
 "cells": [
  {
   "cell_type": "markdown",
   "id": "62089353",
   "metadata": {},
   "source": [
    "# Decision Tree "
   ]
  },
  {
   "cell_type": "markdown",
   "id": "e91eb2b0",
   "metadata": {},
   "source": [
    "## Part 1: Data Source and Contents"
   ]
  },
  {
   "cell_type": "markdown",
   "id": "978d2b47",
   "metadata": {},
   "source": [
    "Data source:\n",
    "Use the following exact “path” in your code as the data source:\n",
    "\"https://github.com/ArinB/MSBA-CA-03-Decision-Trees/blob/master/census_data.csv?raw=true\""
   ]
  },
  {
   "cell_type": "markdown",
   "id": "9c4afd79",
   "metadata": {},
   "source": [
    "Q.1 Why does it makes sense to discretize columns for this problem?\n",
    "\n",
    "A: to handle outliers, because discretization can also help to handle outliers by grouping them into the same bin as other extreme values.\n",
    "\n",
    "\n",
    "Q.2 What might be the issues (if any) if we DID NOT discretize the columns.\n",
    "\n",
    "A: too many outliers and missing values \n",
    "\n"
   ]
  },
  {
   "cell_type": "markdown",
   "id": "d050d7f8",
   "metadata": {},
   "source": [
    "## Part 2: Data Quality Analysis (DQA)"
   ]
  },
  {
   "cell_type": "code",
   "execution_count": 1,
   "id": "486c1055",
   "metadata": {},
   "outputs": [],
   "source": [
    "# Importing Libraries\n",
    "import pandas as pd\n",
    "import numpy as np\n",
    "import matplotlib.pyplot as plt\n",
    "import seaborn as sns"
   ]
  },
  {
   "cell_type": "code",
   "execution_count": 2,
   "id": "d30412bc",
   "metadata": {},
   "outputs": [],
   "source": [
    "# Load data from Github\n",
    "df = pd.read_csv(\"https://github.com/ArinB/MSBA-CA-03-Decision-Trees/blob/master/census_data.csv?raw=true\")"
   ]
  },
  {
   "cell_type": "code",
   "execution_count": 3,
   "id": "e11138fc",
   "metadata": {},
   "outputs": [
    {
     "name": "stdout",
     "output_type": "stream",
     "text": [
      "<bound method NDFrame.head of       hours_per_week_bin occupation_bin  msr_bin capital_gl_bin race_sex_bin  \\\n",
      "0               b. 31-40   b. Mid - Low   b. Mid         c. > 0      c. High   \n",
      "1                a. 0-30        e. High  c. High         a. = 0      c. High   \n",
      "2               b. 31-40         a. Low   b. Mid         a. = 0      c. High   \n",
      "3               b. 31-40         a. Low  c. High         a. = 0       b. Mid   \n",
      "4               b. 31-40        e. High  c. High         a. = 0       a. Low   \n",
      "...                  ...            ...      ...            ...          ...   \n",
      "48837           b. 31-40        e. High   b. Mid         a. = 0       b. Mid   \n",
      "48838           b. 31-40   b. Mid - Low   a. Low         a. = 0       b. Mid   \n",
      "48839   d. 41-50 & 61-70        e. High  c. High         a. = 0      c. High   \n",
      "48840           b. 31-40   b. Mid - Low   a. Low         c. > 0      c. High   \n",
      "48841           e. 51-60        e. High  c. High         a. = 0      c. High   \n",
      "\n",
      "      education_num_bin education_bin workclass_bin            age_bin   flag  \\\n",
      "0                 c. 13  c. Bachelors     b. income   d. 36-40 & 56-60  train   \n",
      "1                 c. 13  c. Bachelors     b. income           e. 40-55  train   \n",
      "2               b. 9-12        b. Mid     b. income   d. 36-40 & 56-60  train   \n",
      "3                a. 0-8        a. Low     b. income           e. 40-55  train   \n",
      "4                 c. 13  c. Bachelors     b. income  b. 26-30 & 71-100  train   \n",
      "...                 ...           ...           ...                ...    ...   \n",
      "48837             c. 13  c. Bachelors     b. income   d. 36-40 & 56-60   test   \n",
      "48838           b. 9-12        b. Mid  a. no income   c. 31-35 & 61-70   test   \n",
      "48839             c. 13  c. Bachelors     b. income   d. 36-40 & 56-60   test   \n",
      "48840             c. 13  c. Bachelors     b. income           e. 40-55   test   \n",
      "48841             c. 13  c. Bachelors     b. income   c. 31-35 & 61-70   test   \n",
      "\n",
      "       y  \n",
      "0      0  \n",
      "1      0  \n",
      "2      0  \n",
      "3      0  \n",
      "4      0  \n",
      "...   ..  \n",
      "48837  0  \n",
      "48838  0  \n",
      "48839  0  \n",
      "48840  0  \n",
      "48841  1  \n",
      "\n",
      "[48842 rows x 11 columns]>\n"
     ]
    }
   ],
   "source": [
    "#print a few row of data\n",
    "print(df.head)"
   ]
  },
  {
   "cell_type": "code",
   "execution_count": 4,
   "id": "2edf82f8",
   "metadata": {},
   "outputs": [
    {
     "name": "stdout",
     "output_type": "stream",
     "text": [
      "(48842, 11)\n"
     ]
    }
   ],
   "source": [
    "# print the DataFrame's shape\n",
    "print(df.shape)"
   ]
  },
  {
   "cell_type": "code",
   "execution_count": 5,
   "id": "48350f73",
   "metadata": {},
   "outputs": [
    {
     "name": "stdout",
     "output_type": "stream",
     "text": [
      "hours_per_week_bin    object\n",
      "occupation_bin        object\n",
      "msr_bin               object\n",
      "capital_gl_bin        object\n",
      "race_sex_bin          object\n",
      "education_num_bin     object\n",
      "education_bin         object\n",
      "workclass_bin         object\n",
      "age_bin               object\n",
      "flag                  object\n",
      "y                      int64\n",
      "dtype: object\n"
     ]
    }
   ],
   "source": [
    "#print the DataFrame's data types\n",
    "\n",
    "print(df.dtypes)"
   ]
  },
  {
   "cell_type": "code",
   "execution_count": 6,
   "id": "67b96f8c",
   "metadata": {},
   "outputs": [
    {
     "name": "stdout",
     "output_type": "stream",
     "text": [
      "hours_per_week_bin    0\n",
      "occupation_bin        0\n",
      "msr_bin               0\n",
      "capital_gl_bin        0\n",
      "race_sex_bin          0\n",
      "education_num_bin     0\n",
      "education_bin         0\n",
      "workclass_bin         0\n",
      "age_bin               0\n",
      "flag                  0\n",
      "y                     0\n",
      "dtype: int64\n"
     ]
    }
   ],
   "source": [
    "#check missing values \n",
    "print(df.isnull().sum())"
   ]
  },
  {
   "cell_type": "markdown",
   "id": "69a1d315",
   "metadata": {},
   "source": [
    "Data Quality: no missing values in features"
   ]
  },
  {
   "cell_type": "code",
   "execution_count": 7,
   "id": "113dd94f",
   "metadata": {},
   "outputs": [],
   "source": [
    "#data cleaning: eliminate irrelavant characters in DataFrame\n",
    "for col in df.drop(columns = [\"flag\",\"y\"]):\n",
    "    df[col] = df[col].str.split(\".\", n=1, expand = True)[1]"
   ]
  },
  {
   "cell_type": "code",
   "execution_count": 8,
   "id": "a5db22ab",
   "metadata": {},
   "outputs": [
    {
     "data": {
      "text/html": [
       "<div>\n",
       "<style scoped>\n",
       "    .dataframe tbody tr th:only-of-type {\n",
       "        vertical-align: middle;\n",
       "    }\n",
       "\n",
       "    .dataframe tbody tr th {\n",
       "        vertical-align: top;\n",
       "    }\n",
       "\n",
       "    .dataframe thead th {\n",
       "        text-align: right;\n",
       "    }\n",
       "</style>\n",
       "<table border=\"1\" class=\"dataframe\">\n",
       "  <thead>\n",
       "    <tr style=\"text-align: right;\">\n",
       "      <th></th>\n",
       "      <th>hours_per_week_bin</th>\n",
       "      <th>occupation_bin</th>\n",
       "      <th>msr_bin</th>\n",
       "      <th>capital_gl_bin</th>\n",
       "      <th>race_sex_bin</th>\n",
       "      <th>education_num_bin</th>\n",
       "      <th>education_bin</th>\n",
       "      <th>workclass_bin</th>\n",
       "      <th>age_bin</th>\n",
       "      <th>flag</th>\n",
       "      <th>y</th>\n",
       "    </tr>\n",
       "  </thead>\n",
       "  <tbody>\n",
       "    <tr>\n",
       "      <th>0</th>\n",
       "      <td>31-40</td>\n",
       "      <td>Mid - Low</td>\n",
       "      <td>Mid</td>\n",
       "      <td>&gt; 0</td>\n",
       "      <td>High</td>\n",
       "      <td>13</td>\n",
       "      <td>Bachelors</td>\n",
       "      <td>income</td>\n",
       "      <td>36-40 &amp; 56-60</td>\n",
       "      <td>train</td>\n",
       "      <td>0</td>\n",
       "    </tr>\n",
       "    <tr>\n",
       "      <th>1</th>\n",
       "      <td>0-30</td>\n",
       "      <td>High</td>\n",
       "      <td>High</td>\n",
       "      <td>= 0</td>\n",
       "      <td>High</td>\n",
       "      <td>13</td>\n",
       "      <td>Bachelors</td>\n",
       "      <td>income</td>\n",
       "      <td>40-55</td>\n",
       "      <td>train</td>\n",
       "      <td>0</td>\n",
       "    </tr>\n",
       "    <tr>\n",
       "      <th>2</th>\n",
       "      <td>31-40</td>\n",
       "      <td>Low</td>\n",
       "      <td>Mid</td>\n",
       "      <td>= 0</td>\n",
       "      <td>High</td>\n",
       "      <td>9-12</td>\n",
       "      <td>Mid</td>\n",
       "      <td>income</td>\n",
       "      <td>36-40 &amp; 56-60</td>\n",
       "      <td>train</td>\n",
       "      <td>0</td>\n",
       "    </tr>\n",
       "    <tr>\n",
       "      <th>3</th>\n",
       "      <td>31-40</td>\n",
       "      <td>Low</td>\n",
       "      <td>High</td>\n",
       "      <td>= 0</td>\n",
       "      <td>Mid</td>\n",
       "      <td>0-8</td>\n",
       "      <td>Low</td>\n",
       "      <td>income</td>\n",
       "      <td>40-55</td>\n",
       "      <td>train</td>\n",
       "      <td>0</td>\n",
       "    </tr>\n",
       "    <tr>\n",
       "      <th>4</th>\n",
       "      <td>31-40</td>\n",
       "      <td>High</td>\n",
       "      <td>High</td>\n",
       "      <td>= 0</td>\n",
       "      <td>Low</td>\n",
       "      <td>13</td>\n",
       "      <td>Bachelors</td>\n",
       "      <td>income</td>\n",
       "      <td>26-30 &amp; 71-100</td>\n",
       "      <td>train</td>\n",
       "      <td>0</td>\n",
       "    </tr>\n",
       "  </tbody>\n",
       "</table>\n",
       "</div>"
      ],
      "text/plain": [
       "  hours_per_week_bin occupation_bin msr_bin capital_gl_bin race_sex_bin  \\\n",
       "0              31-40      Mid - Low     Mid            > 0         High   \n",
       "1               0-30           High    High            = 0         High   \n",
       "2              31-40            Low     Mid            = 0         High   \n",
       "3              31-40            Low    High            = 0          Mid   \n",
       "4              31-40           High    High            = 0          Low   \n",
       "\n",
       "  education_num_bin education_bin workclass_bin          age_bin   flag  y  \n",
       "0                13     Bachelors        income    36-40 & 56-60  train  0  \n",
       "1                13     Bachelors        income            40-55  train  0  \n",
       "2              9-12           Mid        income    36-40 & 56-60  train  0  \n",
       "3               0-8           Low        income            40-55  train  0  \n",
       "4                13     Bachelors        income   26-30 & 71-100  train  0  "
      ]
     },
     "execution_count": 8,
     "metadata": {},
     "output_type": "execute_result"
    }
   ],
   "source": [
    "#check the DataFrame after cleaning \n",
    "df.head()"
   ]
  },
  {
   "cell_type": "code",
   "execution_count": 9,
   "id": "4c86e503",
   "metadata": {},
   "outputs": [
    {
     "data": {
      "text/html": [
       "<div>\n",
       "<style scoped>\n",
       "    .dataframe tbody tr th:only-of-type {\n",
       "        vertical-align: middle;\n",
       "    }\n",
       "\n",
       "    .dataframe tbody tr th {\n",
       "        vertical-align: top;\n",
       "    }\n",
       "\n",
       "    .dataframe thead th {\n",
       "        text-align: right;\n",
       "    }\n",
       "</style>\n",
       "<table border=\"1\" class=\"dataframe\">\n",
       "  <thead>\n",
       "    <tr style=\"text-align: right;\">\n",
       "      <th></th>\n",
       "      <th>y</th>\n",
       "    </tr>\n",
       "  </thead>\n",
       "  <tbody>\n",
       "    <tr>\n",
       "      <th>count</th>\n",
       "      <td>48842.00</td>\n",
       "    </tr>\n",
       "    <tr>\n",
       "      <th>mean</th>\n",
       "      <td>0.24</td>\n",
       "    </tr>\n",
       "    <tr>\n",
       "      <th>std</th>\n",
       "      <td>0.43</td>\n",
       "    </tr>\n",
       "    <tr>\n",
       "      <th>min</th>\n",
       "      <td>0.00</td>\n",
       "    </tr>\n",
       "    <tr>\n",
       "      <th>25%</th>\n",
       "      <td>0.00</td>\n",
       "    </tr>\n",
       "    <tr>\n",
       "      <th>50%</th>\n",
       "      <td>0.00</td>\n",
       "    </tr>\n",
       "    <tr>\n",
       "      <th>75%</th>\n",
       "      <td>0.00</td>\n",
       "    </tr>\n",
       "    <tr>\n",
       "      <th>max</th>\n",
       "      <td>1.00</td>\n",
       "    </tr>\n",
       "  </tbody>\n",
       "</table>\n",
       "</div>"
      ],
      "text/plain": [
       "              y\n",
       "count  48842.00\n",
       "mean       0.24\n",
       "std        0.43\n",
       "min        0.00\n",
       "25%        0.00\n",
       "50%        0.00\n",
       "75%        0.00\n",
       "max        1.00"
      ]
     },
     "execution_count": 9,
     "metadata": {},
     "output_type": "execute_result"
    }
   ],
   "source": [
    "#Display descriptive statistics of each column\n",
    "round(df.describe(),2)"
   ]
  },
  {
   "cell_type": "code",
   "execution_count": 19,
   "id": "f7603859",
   "metadata": {},
   "outputs": [
    {
     "name": "stdout",
     "output_type": "stream",
     "text": [
      "Original DataFrame:\n",
      "        hours_per_week_bin  occupation_bin  msr_bin  capital_gl_bin  \\\n",
      "0                       1               3        2               2   \n",
      "1                       0               0        0               1   \n",
      "2                       1               1        2               1   \n",
      "3                       1               1        0               1   \n",
      "4                       1               0        0               1   \n",
      "...                   ...             ...      ...             ...   \n",
      "48837                   1               0        2               1   \n",
      "48838                   1               3        1               1   \n",
      "48839                   2               0        0               1   \n",
      "48840                   1               3        1               2   \n",
      "48841                   3               0        0               1   \n",
      "\n",
      "       race_sex_bin  education_num_bin  education_bin  workclass_bin  age_bin  \\\n",
      "0                 0                  1              0              0        3   \n",
      "1                 0                  1              0              0        4   \n",
      "2                 0                  4              4              0        3   \n",
      "3                 2                  0              2              0        4   \n",
      "4                 1                  1              0              0        1   \n",
      "...             ...                ...            ...            ...      ...   \n",
      "48837             2                  1              0              0        3   \n",
      "48838             2                  4              4              1        2   \n",
      "48839             0                  1              0              0        3   \n",
      "48840             0                  1              0              0        4   \n",
      "48841             0                  1              0              0        2   \n",
      "\n",
      "       flag  y  \n",
      "0         1  0  \n",
      "1         1  0  \n",
      "2         1  0  \n",
      "3         1  0  \n",
      "4         1  0  \n",
      "...     ... ..  \n",
      "48837     0  0  \n",
      "48838     0  0  \n",
      "48839     0  0  \n",
      "48840     0  0  \n",
      "48841     0  1  \n",
      "\n",
      "[48842 rows x 11 columns]\n"
     ]
    }
   ],
   "source": [
    "#import library to encode each columns \n",
    "from sklearn.preprocessing import LabelEncoder\n",
    "\n",
    "# iterate over each column in the original DataFrame\n",
    "for col in df.columns:\n",
    "    # initialize a LabelEncoder for the current column\n",
    "    le = LabelEncoder()\n",
    "    \n",
    "#     le.fit(df[col])\n",
    "    # fit and transform the encoder on the column values\n",
    "    encoded_values = le.fit_transform(df[col])\n",
    "    # add the encoded values to the new DataFrame\n",
    "    df[col] = encoded_values\n",
    "\n",
    "# print the original and encoded DataFrames\n",
    "print(\"Original DataFrame:\\n\", df)"
   ]
  },
  {
   "cell_type": "code",
   "execution_count": 20,
   "id": "e73f52fe",
   "metadata": {},
   "outputs": [
    {
     "name": "stdout",
     "output_type": "stream",
     "text": [
      "Number of outliers:  48842\n"
     ]
    }
   ],
   "source": [
    "#check outliers \n",
    "\n",
    "def count_outliers(df, column_name):\n",
    "    # Calculate the first and third quartiles\n",
    "    q1 = df[column_name].quantile(0.25)\n",
    "    q3 = df[column_name].quantile(0.75)\n",
    "    \n",
    "    # Calculate the interquartile range (IQR)\n",
    "    iqr = q3 - q1\n",
    "    \n",
    "    # Calculate the lower and upper bounds using the IQR\n",
    "    lower_bound = q1 - 1.5 * iqr\n",
    "    upper_bound = q3 + 1.5 * iqr\n",
    "    \n",
    "    # Identify outliers using the bounds and count them\n",
    "    outliers = df[(df[column_name] < lower_bound) | (df[column_name] > upper_bound)]\n",
    "    return outliers.shape[0]\n",
    "\n",
    "col_list = ['hours_per_week_bin','occupation_bin','msr_bin','capital_gl_bin',\n",
    "                             'race_sex_bin','education_num_bin','education_bin','workclass_bin',\n",
    "                             'age_bin','flag','y']\n",
    "\n",
    "# Count the outliers in the column list\n",
    "num_outliers = count_outliers(df,col_list)\n",
    "\n",
    "# Print the number of outliers\n",
    "print(\"Number of outliers: \", num_outliers)"
   ]
  },
  {
   "cell_type": "markdown",
   "id": "ad265ea0",
   "metadata": {},
   "source": [
    "## Part 3: Decision Tree Classifier Models"
   ]
  },
  {
   "cell_type": "code",
   "execution_count": 21,
   "id": "52555ddf",
   "metadata": {},
   "outputs": [],
   "source": [
    "# Separate train and test DataFrame\n",
    "\n",
    "    # encode flag: train = 1, test = 0\n",
    "df_train = df[df['flag'] == 1]\n",
    "\n",
    "df_test = df[df['flag'] == 0]"
   ]
  },
  {
   "cell_type": "code",
   "execution_count": 22,
   "id": "23be3cfd",
   "metadata": {},
   "outputs": [],
   "source": [
    "# Separate features and labels (target variables)\n",
    "x_train = df_train.drop('y', axis=1)\n",
    "\n",
    "y_train = df_train['y']\n",
    "\n",
    "x_test = df_test.drop('y', axis=1)\n",
    "\n",
    "y_test = df_test['y']"
   ]
  },
  {
   "cell_type": "code",
   "execution_count": 23,
   "id": "5b5dc4d5",
   "metadata": {},
   "outputs": [
    {
     "name": "stdout",
     "output_type": "stream",
     "text": [
      "x_train : \n",
      "   hours_per_week_bin  occupation_bin  msr_bin  capital_gl_bin  race_sex_bin  \\\n",
      "0                   1               3        2               2             0   \n",
      "1                   0               0        0               1             0   \n",
      "2                   1               1        2               1             0   \n",
      "3                   1               1        0               1             2   \n",
      "4                   1               0        0               1             1   \n",
      "\n",
      "   education_num_bin  education_bin  workclass_bin  age_bin  flag  \n",
      "0                  1              0              0        3     1  \n",
      "1                  1              0              0        4     1  \n",
      "2                  4              4              0        3     1  \n",
      "3                  0              2              0        4     1  \n",
      "4                  1              0              0        1     1  \n",
      "\n",
      "x_test : \n",
      "       hours_per_week_bin  occupation_bin  msr_bin  capital_gl_bin  \\\n",
      "32561                   1               3        1               1   \n",
      "32562                   2               3        0               1   \n",
      "32563                   1               2        0               1   \n",
      "32564                   1               3        0               2   \n",
      "32565                   0               3        1               1   \n",
      "\n",
      "       race_sex_bin  education_num_bin  education_bin  workclass_bin  age_bin  \\\n",
      "32561             2                  0              2              0        0   \n",
      "32562             0                  4              4              0        3   \n",
      "32563             0                  4              4              0        1   \n",
      "32564             2                  4              4              0        4   \n",
      "32565             2                  4              4              1        0   \n",
      "\n",
      "       flag  \n",
      "32561     0  \n",
      "32562     0  \n",
      "32563     0  \n",
      "32564     0  \n",
      "32565     0  \n",
      "\n",
      "y_train : \n",
      "0    0\n",
      "1    0\n",
      "2    0\n",
      "3    0\n",
      "4    0\n",
      "Name: y, dtype: int64\n",
      "\n",
      "y_test : \n",
      "32561    0\n",
      "32562    0\n",
      "32563    1\n",
      "32564    1\n",
      "32565    0\n",
      "Name: y, dtype: int64\n"
     ]
    }
   ],
   "source": [
    "# printing out train and test sets\n",
    "  \n",
    "print('x_train : ')\n",
    "print(x_train.head())\n",
    "print('')\n",
    "print('x_test : ')\n",
    "print(x_test.head())\n",
    "print('')\n",
    "print('y_train : ')\n",
    "print(y_train.head())\n",
    "print('')\n",
    "print('y_test : ')\n",
    "print(y_test.head())"
   ]
  },
  {
   "cell_type": "code",
   "execution_count": 24,
   "id": "f431817d",
   "metadata": {},
   "outputs": [],
   "source": [
    "#import library\n",
    "from sklearn.tree import DecisionTreeClassifier \n",
    "\n",
    "#instantiate the decision tree classifier \n",
    "dtree = DecisionTreeClassifier(max_depth=10, random_state=101,\n",
    "                              max_features = None, min_samples_leaf =15)\n",
    "\n",
    "#fit the training dataset \n",
    "dtree.fit(x_train,y_train)\n",
    "\n",
    "y_pred = dtree.predict(x_test)"
   ]
  },
  {
   "cell_type": "markdown",
   "id": "1fe6ab21",
   "metadata": {},
   "source": [
    "## Part 4: evaluate decision tree performance "
   ]
  },
  {
   "cell_type": "code",
   "execution_count": 25,
   "id": "c9e1caee",
   "metadata": {},
   "outputs": [
    {
     "name": "stdout",
     "output_type": "stream",
     "text": [
      "[[11592   843]\n",
      " [ 1691  2155]]\n"
     ]
    }
   ],
   "source": [
    "#evaluate model by using confusion matrix \n",
    "\n",
    "from sklearn.metrics import confusion_matrix\n",
    "\n",
    "df_table = confusion_matrix(y_test, y_pred)\n",
    "print (df_table)"
   ]
  },
  {
   "cell_type": "code",
   "execution_count": 26,
   "id": "be7a2ee7",
   "metadata": {},
   "outputs": [
    {
     "name": "stdout",
     "output_type": "stream",
     "text": [
      "              precision    recall  f1-score   support\n",
      "\n",
      "           0       0.87      0.93      0.90     12435\n",
      "           1       0.72      0.56      0.63      3846\n",
      "\n",
      "    accuracy                           0.84     16281\n",
      "   macro avg       0.80      0.75      0.77     16281\n",
      "weighted avg       0.84      0.84      0.84     16281\n",
      "\n"
     ]
    }
   ],
   "source": [
    "#evaluate model by using Accuracy,Precision,recall,F1 score \n",
    "\n",
    "# Importing classification report and confusion matrix from sklearn metrics\n",
    "from sklearn.metrics import classification_report,confusion_matrix,accuracy_score,precision_recall_fscore_support\n",
    "\n",
    "accuracy_score(y_test,y_pred) # accuracy score\n",
    "\n",
    "# Printing classifier report after prediction\n",
    "print(classification_report(y_test,y_pred))"
   ]
  },
  {
   "cell_type": "markdown",
   "id": "9bb5960f",
   "metadata": {},
   "source": [
    "## Part 5: Tune Decision Tree Performance"
   ]
  },
  {
   "cell_type": "markdown",
   "id": "d36955f9",
   "metadata": {},
   "source": [
    "Run 1"
   ]
  },
  {
   "cell_type": "markdown",
   "id": "a1488e46",
   "metadata": {},
   "source": [
    "For Run 1, vary Run 1 columns only and keep other columns to \"default\"."
   ]
  },
  {
   "cell_type": "code",
   "execution_count": 27,
   "id": "ab3a2186",
   "metadata": {},
   "outputs": [],
   "source": [
    "#import library \n",
    "\n",
    "from sklearn.metrics import precision_score, recall_score, f1_score"
   ]
  },
  {
   "cell_type": "code",
   "execution_count": 44,
   "id": "54a34989",
   "metadata": {},
   "outputs": [
    {
     "name": "stdout",
     "output_type": "stream",
     "text": [
      "Run 1 : Accuracy [0.8361280019654812, 0.8369879000061421]\n",
      "Run 1 : Precision [0.6919817470664928, 0.6933809214795588]\n",
      "Run 1 : Recall [0.5520020800832033, 0.5556422256890275]\n"
     ]
    }
   ],
   "source": [
    "accuracy_list = []\n",
    "recall_list = []\n",
    "precision_list = []\n",
    "f1_score_list =[]\n",
    "\n",
    "criterion = ['entropy','gini']\n",
    "\n",
    "for trees in criterion:\n",
    "    model = DecisionTreeClassifier(criterion=trees, random_state=101)\n",
    "    model.fit(x_train, y_train)\n",
    "    y_pred = model.predict(x_test)\n",
    "    \n",
    "    accuracy = np.mean(y_test == y_pred)\n",
    "    accuracy_list.append(accuracy)\n",
    "    \n",
    "    precision = precision_score(y_test, y_pred)\n",
    "    precision_list.append(precision)\n",
    "    \n",
    "    recall = recall_score(y_test, y_pred)\n",
    "    recall_list.append(recall)\n",
    "    \n",
    "    #f1_score = f1_score(y_test, y_pred)\n",
    "    #f1_score_list.append(f1_score)\n",
    "    \n",
    "print('Run 1 : Accuracy', accuracy_list)\n",
    "print('Run 1 : Precision', precision_list)\n",
    "print('Run 1 : Recall', recall_list)"
   ]
  },
  {
   "cell_type": "code",
   "execution_count": 51,
   "id": "f8537bf1",
   "metadata": {},
   "outputs": [
    {
     "data": {
      "text/html": [
       "<div>\n",
       "<style scoped>\n",
       "    .dataframe tbody tr th:only-of-type {\n",
       "        vertical-align: middle;\n",
       "    }\n",
       "\n",
       "    .dataframe tbody tr th {\n",
       "        vertical-align: top;\n",
       "    }\n",
       "\n",
       "    .dataframe thead th {\n",
       "        text-align: right;\n",
       "    }\n",
       "</style>\n",
       "<table border=\"1\" class=\"dataframe\">\n",
       "  <thead>\n",
       "    <tr style=\"text-align: right;\">\n",
       "      <th></th>\n",
       "      <th>Accuracy</th>\n",
       "      <th>Precision</th>\n",
       "      <th>Recall</th>\n",
       "    </tr>\n",
       "  </thead>\n",
       "  <tbody>\n",
       "    <tr>\n",
       "      <th>entropy</th>\n",
       "      <td>0.836128</td>\n",
       "      <td>0.691982</td>\n",
       "      <td>0.552002</td>\n",
       "    </tr>\n",
       "    <tr>\n",
       "      <th>gini</th>\n",
       "      <td>0.836988</td>\n",
       "      <td>0.693381</td>\n",
       "      <td>0.555642</td>\n",
       "    </tr>\n",
       "  </tbody>\n",
       "</table>\n",
       "</div>"
      ],
      "text/plain": [
       "         Accuracy  Precision    Recall\n",
       "entropy  0.836128   0.691982  0.552002\n",
       "gini     0.836988   0.693381  0.555642"
      ]
     },
     "execution_count": 51,
     "metadata": {},
     "output_type": "execute_result"
    }
   ],
   "source": [
    "df_run1 = pd.DataFrame({'Accuracy':accuracy_list,\n",
    "                       'Precision':precision_list,'Recall':recall_list},\n",
    "                      index = criterion)\n",
    "df_run1"
   ]
  },
  {
   "cell_type": "markdown",
   "id": "6d5e5d7d",
   "metadata": {},
   "source": [
    "Run 2"
   ]
  },
  {
   "cell_type": "markdown",
   "id": "f63eff35",
   "metadata": {},
   "source": [
    "For Run 2, use the BEST hyper-parameter value of Split Criteria from Run 1"
   ]
  },
  {
   "cell_type": "code",
   "execution_count": 53,
   "id": "068f327e",
   "metadata": {},
   "outputs": [
    {
     "name": "stdout",
     "output_type": "stream",
     "text": [
      "Run 2 : Accuracy [0.8404274921687857, 0.8407960199004975, 0.8436213991769548, 0.8441127694859039, 0.8430071862907684, 0.8417173392297771, 0.8399361218598366, 0.8400589644370738]\n",
      "Run 2 : Precision [0.7014202711426727, 0.7050359712230215, 0.7087347463070006, 0.7109677419354838, 0.7094155844155844, 0.7035611164581328, 0.6935081148564295, 0.7046802900461437]\n",
      "Run 2 : Recall [0.5650026001040042, 0.5605824232969319, 0.5738429537181488, 0.5730629225169007, 0.5681227249089964, 0.5702028081123245, 0.577743109724389, 0.5559022360894436]\n"
     ]
    }
   ],
   "source": [
    "accuracy_list = []\n",
    "recall_list = []\n",
    "precision_list = []\n",
    "f1_score_list =[]\n",
    "\n",
    "min_sample_leaf = [5,10,15,20,25,30,35,40]\n",
    "\n",
    "for trees in min_sample_leaf:\n",
    "    model = DecisionTreeClassifier(criterion='gini', random_state=101,min_samples_leaf=trees)\n",
    "    model.fit(x_train, y_train)\n",
    "    y_pred = model.predict(x_test)\n",
    "    \n",
    "    accuracy = np.mean(y_test == y_pred)\n",
    "    accuracy_list.append(accuracy)\n",
    "    \n",
    "    precision = precision_score(y_test, y_pred)\n",
    "    precision_list.append(precision)\n",
    "    \n",
    "    recall = recall_score(y_test, y_pred)\n",
    "    recall_list.append(recall)\n",
    "    \n",
    "    #f1_score = f1_score(y_test, y_pred)\n",
    "    #f1_score_list.append(f1_score)\n",
    "    \n",
    "print('Run 2 : Accuracy', accuracy_list)\n",
    "print('Run 2 : Precision', precision_list)\n",
    "print('Run 2 : Recall', recall_list)"
   ]
  },
  {
   "cell_type": "code",
   "execution_count": 54,
   "id": "0ac36d5e",
   "metadata": {},
   "outputs": [
    {
     "data": {
      "text/html": [
       "<div>\n",
       "<style scoped>\n",
       "    .dataframe tbody tr th:only-of-type {\n",
       "        vertical-align: middle;\n",
       "    }\n",
       "\n",
       "    .dataframe tbody tr th {\n",
       "        vertical-align: top;\n",
       "    }\n",
       "\n",
       "    .dataframe thead th {\n",
       "        text-align: right;\n",
       "    }\n",
       "</style>\n",
       "<table border=\"1\" class=\"dataframe\">\n",
       "  <thead>\n",
       "    <tr style=\"text-align: right;\">\n",
       "      <th></th>\n",
       "      <th>Accuracy</th>\n",
       "      <th>Precision</th>\n",
       "      <th>Recall</th>\n",
       "    </tr>\n",
       "  </thead>\n",
       "  <tbody>\n",
       "    <tr>\n",
       "      <th>5</th>\n",
       "      <td>0.840427</td>\n",
       "      <td>0.701420</td>\n",
       "      <td>0.565003</td>\n",
       "    </tr>\n",
       "    <tr>\n",
       "      <th>10</th>\n",
       "      <td>0.840796</td>\n",
       "      <td>0.705036</td>\n",
       "      <td>0.560582</td>\n",
       "    </tr>\n",
       "    <tr>\n",
       "      <th>15</th>\n",
       "      <td>0.843621</td>\n",
       "      <td>0.708735</td>\n",
       "      <td>0.573843</td>\n",
       "    </tr>\n",
       "    <tr>\n",
       "      <th>20</th>\n",
       "      <td>0.844113</td>\n",
       "      <td>0.710968</td>\n",
       "      <td>0.573063</td>\n",
       "    </tr>\n",
       "    <tr>\n",
       "      <th>25</th>\n",
       "      <td>0.843007</td>\n",
       "      <td>0.709416</td>\n",
       "      <td>0.568123</td>\n",
       "    </tr>\n",
       "    <tr>\n",
       "      <th>30</th>\n",
       "      <td>0.841717</td>\n",
       "      <td>0.703561</td>\n",
       "      <td>0.570203</td>\n",
       "    </tr>\n",
       "    <tr>\n",
       "      <th>35</th>\n",
       "      <td>0.839936</td>\n",
       "      <td>0.693508</td>\n",
       "      <td>0.577743</td>\n",
       "    </tr>\n",
       "    <tr>\n",
       "      <th>40</th>\n",
       "      <td>0.840059</td>\n",
       "      <td>0.704680</td>\n",
       "      <td>0.555902</td>\n",
       "    </tr>\n",
       "  </tbody>\n",
       "</table>\n",
       "</div>"
      ],
      "text/plain": [
       "    Accuracy  Precision    Recall\n",
       "5   0.840427   0.701420  0.565003\n",
       "10  0.840796   0.705036  0.560582\n",
       "15  0.843621   0.708735  0.573843\n",
       "20  0.844113   0.710968  0.573063\n",
       "25  0.843007   0.709416  0.568123\n",
       "30  0.841717   0.703561  0.570203\n",
       "35  0.839936   0.693508  0.577743\n",
       "40  0.840059   0.704680  0.555902"
      ]
     },
     "execution_count": 54,
     "metadata": {},
     "output_type": "execute_result"
    }
   ],
   "source": [
    "df_run2 = pd.DataFrame({'Accuracy':accuracy_list,\n",
    "                       'Precision':precision_list,'Recall':recall_list},\n",
    "                      index = min_sample_leaf)\n",
    "df_run2"
   ]
  },
  {
   "cell_type": "code",
   "execution_count": 66,
   "id": "210a940b",
   "metadata": {},
   "outputs": [
    {
     "data": {
      "image/png": "[encoded data removed]",
      "text/plain": [
       "<Figure size 640x480 with 1 Axes>"
      ]
     },
     "metadata": {},
     "output_type": "display_data"
    }
   ],
   "source": [
    "df_run2.plot()\n",
    "\n",
    "plt.show()"
   ]
  },
  {
   "cell_type": "markdown",
   "id": "dd68bfb5",
   "metadata": {},
   "source": [
    "Run 3"
   ]
  },
  {
   "cell_type": "markdown",
   "id": "06f29293",
   "metadata": {},
   "source": [
    "For Run 3 - use the BEST hyper-parameter values of Split Criteria and Minimum Sample Leaf from Run 1&2"
   ]
  },
  {
   "cell_type": "code",
   "execution_count": 56,
   "id": "59eb7351",
   "metadata": {},
   "outputs": [
    {
     "name": "stdout",
     "output_type": "stream",
     "text": [
      "Run 3 : Accuracy [0.8409188624777347, 0.8441127694859039, 0.8409188624777347, 0.8433757140224802, 0.8428843437135312, 0.8417173392297771, 0.8440513481972852, 0.8442356120631411]\n",
      "Run 3 : Precision [0.7044270833333334, 0.7109677419354838, 0.7044270833333334, 0.7086284610431423, 0.7016280525986224, 0.70304, 0.7087192590226764, 0.7099358974358975]\n",
      "Run 3 : Recall [0.5626625065002601, 0.5730629225169007, 0.5626625065002601, 0.5722828913156526, 0.5826833073322933, 0.5712428497139885, 0.5769630785231409, 0.5759230369214768]\n"
     ]
    }
   ],
   "source": [
    "accuracy_list = []\n",
    "recall_list = []\n",
    "precision_list = []\n",
    "f1_score_list =[]\n",
    "\n",
    "max_feature = ['auto',None,0.3,0.4,0.5,0.6,0.7,0.8]\n",
    "\n",
    "for trees in max_feature:\n",
    "    model = DecisionTreeClassifier(criterion='gini', \n",
    "                                   random_state=101,min_samples_leaf=20,\n",
    "                                  max_features = trees)\n",
    "    model.fit(x_train, y_train)\n",
    "    y_pred = model.predict(x_test)\n",
    "    \n",
    "    accuracy = np.mean(y_test == y_pred)\n",
    "    accuracy_list.append(accuracy)\n",
    "    \n",
    "    precision = precision_score(y_test, y_pred)\n",
    "    precision_list.append(precision)\n",
    "    \n",
    "    recall = recall_score(y_test, y_pred)\n",
    "    recall_list.append(recall)\n",
    "    \n",
    "    #f1_score = f1_score(y_test, y_pred)\n",
    "    #f1_score_list.append(f1_score)\n",
    "    \n",
    "print('Run 3 : Accuracy', accuracy_list)\n",
    "print('Run 3 : Precision', precision_list)\n",
    "print('Run 3 : Recall', recall_list)"
   ]
  },
  {
   "cell_type": "code",
   "execution_count": 57,
   "id": "6361eae7",
   "metadata": {},
   "outputs": [
    {
     "data": {
      "text/html": [
       "<div>\n",
       "<style scoped>\n",
       "    .dataframe tbody tr th:only-of-type {\n",
       "        vertical-align: middle;\n",
       "    }\n",
       "\n",
       "    .dataframe tbody tr th {\n",
       "        vertical-align: top;\n",
       "    }\n",
       "\n",
       "    .dataframe thead th {\n",
       "        text-align: right;\n",
       "    }\n",
       "</style>\n",
       "<table border=\"1\" class=\"dataframe\">\n",
       "  <thead>\n",
       "    <tr style=\"text-align: right;\">\n",
       "      <th></th>\n",
       "      <th>Accuracy</th>\n",
       "      <th>Precision</th>\n",
       "      <th>Recall</th>\n",
       "    </tr>\n",
       "  </thead>\n",
       "  <tbody>\n",
       "    <tr>\n",
       "      <th>auto</th>\n",
       "      <td>0.840919</td>\n",
       "      <td>0.704427</td>\n",
       "      <td>0.562663</td>\n",
       "    </tr>\n",
       "    <tr>\n",
       "      <th>None</th>\n",
       "      <td>0.844113</td>\n",
       "      <td>0.710968</td>\n",
       "      <td>0.573063</td>\n",
       "    </tr>\n",
       "    <tr>\n",
       "      <th>0.3</th>\n",
       "      <td>0.840919</td>\n",
       "      <td>0.704427</td>\n",
       "      <td>0.562663</td>\n",
       "    </tr>\n",
       "    <tr>\n",
       "      <th>0.4</th>\n",
       "      <td>0.843376</td>\n",
       "      <td>0.708628</td>\n",
       "      <td>0.572283</td>\n",
       "    </tr>\n",
       "    <tr>\n",
       "      <th>0.5</th>\n",
       "      <td>0.842884</td>\n",
       "      <td>0.701628</td>\n",
       "      <td>0.582683</td>\n",
       "    </tr>\n",
       "    <tr>\n",
       "      <th>0.6</th>\n",
       "      <td>0.841717</td>\n",
       "      <td>0.703040</td>\n",
       "      <td>0.571243</td>\n",
       "    </tr>\n",
       "    <tr>\n",
       "      <th>0.7</th>\n",
       "      <td>0.844051</td>\n",
       "      <td>0.708719</td>\n",
       "      <td>0.576963</td>\n",
       "    </tr>\n",
       "    <tr>\n",
       "      <th>0.8</th>\n",
       "      <td>0.844236</td>\n",
       "      <td>0.709936</td>\n",
       "      <td>0.575923</td>\n",
       "    </tr>\n",
       "  </tbody>\n",
       "</table>\n",
       "</div>"
      ],
      "text/plain": [
       "      Accuracy  Precision    Recall\n",
       "auto  0.840919   0.704427  0.562663\n",
       "None  0.844113   0.710968  0.573063\n",
       "0.3   0.840919   0.704427  0.562663\n",
       "0.4   0.843376   0.708628  0.572283\n",
       "0.5   0.842884   0.701628  0.582683\n",
       "0.6   0.841717   0.703040  0.571243\n",
       "0.7   0.844051   0.708719  0.576963\n",
       "0.8   0.844236   0.709936  0.575923"
      ]
     },
     "execution_count": 57,
     "metadata": {},
     "output_type": "execute_result"
    }
   ],
   "source": [
    "df_run3 = pd.DataFrame({'Accuracy':accuracy_list,\n",
    "                       'Precision':precision_list,'Recall':recall_list},\n",
    "                      index = max_feature)\n",
    "df_run3"
   ]
  },
  {
   "cell_type": "code",
   "execution_count": 67,
   "id": "809896b5",
   "metadata": {},
   "outputs": [
    {
     "data": {
      "image/png": "[encoded data removed]",
      "text/plain": [
       "<Figure size 640x480 with 1 Axes>"
      ]
     },
     "metadata": {},
     "output_type": "display_data"
    }
   ],
   "source": [
    "df_run3.plot()\n",
    "\n",
    "plt.show()"
   ]
  },
  {
   "cell_type": "markdown",
   "id": "69824330",
   "metadata": {},
   "source": [
    "Run 4"
   ]
  },
  {
   "cell_type": "code",
   "execution_count": 59,
   "id": "ce10d6c1",
   "metadata": {},
   "outputs": [
    {
     "name": "stdout",
     "output_type": "stream",
     "text": [
      "Run 3 : Accuracy [0.8165960321847552, 0.826914808672686, 0.837847798046803, 0.8433142927338616, 0.8459554081444629, 0.8449112462379461, 0.8462010932989374, 0.8438670843314293]\n",
      "Run 3 : Precision [0.6954545454545454, 0.6732973701955496, 0.6956521739130435, 0.7111183567003586, 0.7089319175515303, 0.7157791571381902, 0.723815877251501, 0.7095115681233933]\n",
      "Run 3 : Recall [0.39781591263650545, 0.5192407696307852, 0.5574622984919396, 0.5670826833073322, 0.5902236089443578, 0.5696827873114925, 0.5642225689027561, 0.5741029641185648]\n"
     ]
    }
   ],
   "source": [
    "accuracy_list = []\n",
    "recall_list = []\n",
    "precision_list = []\n",
    "f1_score_list =[]\n",
    "\n",
    "max_depth = [2,4,6,8,10,12,14,16]\n",
    "\n",
    "for trees in max_depth:\n",
    "    model = DecisionTreeClassifier(criterion='gini', \n",
    "                                   random_state=101,min_samples_leaf=20,\n",
    "                                  max_features = 0.8,max_depth = trees)\n",
    "    model.fit(x_train, y_train)\n",
    "    y_pred = model.predict(x_test)\n",
    "    \n",
    "    accuracy = np.mean(y_test == y_pred)\n",
    "    accuracy_list.append(accuracy)\n",
    "    \n",
    "    precision = precision_score(y_test, y_pred)\n",
    "    precision_list.append(precision)\n",
    "    \n",
    "    recall = recall_score(y_test, y_pred)\n",
    "    recall_list.append(recall)\n",
    "    \n",
    "    #f1_score = f1_score(y_test, y_pred)\n",
    "    #f1_score_list.append(f1_score)\n",
    "    \n",
    "print('Run 3 : Accuracy', accuracy_list)\n",
    "print('Run 3 : Precision', precision_list)\n",
    "print('Run 3 : Recall', recall_list)"
   ]
  },
  {
   "cell_type": "code",
   "execution_count": 60,
   "id": "aaee1fb3",
   "metadata": {},
   "outputs": [
    {
     "data": {
      "text/html": [
       "<div>\n",
       "<style scoped>\n",
       "    .dataframe tbody tr th:only-of-type {\n",
       "        vertical-align: middle;\n",
       "    }\n",
       "\n",
       "    .dataframe tbody tr th {\n",
       "        vertical-align: top;\n",
       "    }\n",
       "\n",
       "    .dataframe thead th {\n",
       "        text-align: right;\n",
       "    }\n",
       "</style>\n",
       "<table border=\"1\" class=\"dataframe\">\n",
       "  <thead>\n",
       "    <tr style=\"text-align: right;\">\n",
       "      <th></th>\n",
       "      <th>Accuracy</th>\n",
       "      <th>Precision</th>\n",
       "      <th>Recall</th>\n",
       "    </tr>\n",
       "  </thead>\n",
       "  <tbody>\n",
       "    <tr>\n",
       "      <th>2</th>\n",
       "      <td>0.816596</td>\n",
       "      <td>0.695455</td>\n",
       "      <td>0.397816</td>\n",
       "    </tr>\n",
       "    <tr>\n",
       "      <th>4</th>\n",
       "      <td>0.826915</td>\n",
       "      <td>0.673297</td>\n",
       "      <td>0.519241</td>\n",
       "    </tr>\n",
       "    <tr>\n",
       "      <th>6</th>\n",
       "      <td>0.837848</td>\n",
       "      <td>0.695652</td>\n",
       "      <td>0.557462</td>\n",
       "    </tr>\n",
       "    <tr>\n",
       "      <th>8</th>\n",
       "      <td>0.843314</td>\n",
       "      <td>0.711118</td>\n",
       "      <td>0.567083</td>\n",
       "    </tr>\n",
       "    <tr>\n",
       "      <th>10</th>\n",
       "      <td>0.845955</td>\n",
       "      <td>0.708932</td>\n",
       "      <td>0.590224</td>\n",
       "    </tr>\n",
       "    <tr>\n",
       "      <th>12</th>\n",
       "      <td>0.844911</td>\n",
       "      <td>0.715779</td>\n",
       "      <td>0.569683</td>\n",
       "    </tr>\n",
       "    <tr>\n",
       "      <th>14</th>\n",
       "      <td>0.846201</td>\n",
       "      <td>0.723816</td>\n",
       "      <td>0.564223</td>\n",
       "    </tr>\n",
       "    <tr>\n",
       "      <th>16</th>\n",
       "      <td>0.843867</td>\n",
       "      <td>0.709512</td>\n",
       "      <td>0.574103</td>\n",
       "    </tr>\n",
       "  </tbody>\n",
       "</table>\n",
       "</div>"
      ],
      "text/plain": [
       "    Accuracy  Precision    Recall\n",
       "2   0.816596   0.695455  0.397816\n",
       "4   0.826915   0.673297  0.519241\n",
       "6   0.837848   0.695652  0.557462\n",
       "8   0.843314   0.711118  0.567083\n",
       "10  0.845955   0.708932  0.590224\n",
       "12  0.844911   0.715779  0.569683\n",
       "14  0.846201   0.723816  0.564223\n",
       "16  0.843867   0.709512  0.574103"
      ]
     },
     "execution_count": 60,
     "metadata": {},
     "output_type": "execute_result"
    }
   ],
   "source": [
    "df_run4 = pd.DataFrame({'Accuracy':accuracy_list,\n",
    "                       'Precision':precision_list,'Recall':recall_list},\n",
    "                      index = max_depth)\n",
    "df_run4"
   ]
  },
  {
   "cell_type": "code",
   "execution_count": 68,
   "id": "17fbc6a4",
   "metadata": {},
   "outputs": [
    {
     "data": {
      "image/png": "[encoded data removed]",
      "text/plain": [
       "<Figure size 640x480 with 1 Axes>"
      ]
     },
     "metadata": {},
     "output_type": "display_data"
    }
   ],
   "source": [
    "df_run4.plot()\n",
    "\n",
    "plt.show()"
   ]
  },
  {
   "cell_type": "code",
   "execution_count": 65,
   "id": "e90af7ae",
   "metadata": {},
   "outputs": [
    {
     "name": "stdout",
     "output_type": "stream",
     "text": [
      "Elapsed time: 0.04 seconds\n"
     ]
    }
   ],
   "source": [
    "import time \n",
    "\n",
    "#check run time while running the best model\n",
    "\n",
    "# Record the start time\n",
    "start_time = time.time()\n",
    "\n",
    "# Code to be timed\n",
    "dtree = DecisionTreeClassifier(criterion='gini', random_state=101,\n",
    "                               min_samples_leaf=20,max_features = 0.8,\n",
    "                               max_depth = 10)\n",
    "\n",
    "#fit the training dataset \n",
    "dtree.fit(x_train,y_train)\n",
    "\n",
    "y_pred = dtree.predict(x_test)\n",
    "\n",
    "# Record the end time\n",
    "end_time = time.time()\n",
    "\n",
    "# Compute the elapsed time\n",
    "elapsed_time = end_time - start_time\n",
    "\n",
    "print('Elapsed time: {:.2f} seconds'.format(elapsed_time))"
   ]
  },
  {
   "cell_type": "markdown",
   "id": "7b88babd",
   "metadata": {},
   "source": [
    "## Part 6: Visualize Decision Tree"
   ]
  },
  {
   "cell_type": "code",
   "execution_count": 62,
   "id": "3480ae9f",
   "metadata": {
    "scrolled": true
   },
   "outputs": [
    {
     "data": {
      "image/png": "[encoded data removed]",
      "text/plain": [
       "<Figure size 640x480 with 1 Axes>"
      ]
     },
     "metadata": {},
     "output_type": "display_data"
    }
   ],
   "source": [
    "#visualize tree model \n",
    "\n",
    "from sklearn.tree import plot_tree\n",
    "\n",
    "dtree_viz = plot_tree(dtree, feature_names=list(x_train), class_names=['0', '1'], \n",
    "              filled=True, rounded=True, fontsize=14)"
   ]
  },
  {
   "cell_type": "markdown",
   "id": "c70b5c55",
   "metadata": {},
   "source": [
    "## Part 7: Conclusion "
   ]
  },
  {
   "cell_type": "markdown",
   "id": "c18ae820",
   "metadata": {},
   "source": [
    "Q.4 How long was your total run time to train the best model?\n",
    "\n",
    "A: According to my code at the end of part 6, run time to train the best model is 0.04s. \n",
    "\n",
    "Q.5 Did you find the BEST TREE?\n",
    "\n",
    "A: create a 'for' loop to try various hyperparameters manually and judge the best hyper-parameter values with respect to 'Accuracy'.\n",
    "\n",
    "Q.6 Write your observations from the visualization of the best tree\n",
    "A: many internal nodes\n",
    "\n",
    "Q.7 Will this Tree “overfit”?\n",
    "A: yes,this tree is 'overfit'. The visualization indicates a large trees with many levels or branches. In addition, my decision tree has a high accuracy on training data.This is because the decision tree has memorized the training data and is not able to generalize well to new, unseen data.\n"
   ]
  },
  {
   "cell_type": "markdown",
   "id": "dbfdc924",
   "metadata": {},
   "source": [
    "## Part 8: Prediction using your \"trained\" decision tree model "
   ]
  },
  {
   "cell_type": "markdown",
   "id": "0d64bdcc",
   "metadata": {},
   "source": [
    "pick your BEST PERFORMING TREE. Now make prediction of a “new” individual’s Income Category ( <=50K, or >50K ) with the following information.\n",
    "\n",
    "• Hours Worked per Week = 48\n",
    "\n",
    "• Occupation Category = Mid - Low\n",
    "\n",
    "• Marriage Status & Relationships = High\n",
    "\n",
    "• Capital Gain = Yes\n",
    "\n",
    "• Race-Sex Group = Mid\n",
    "\n",
    "• Number of Years of Education = 12\n",
    "\n",
    "• Education Category = High\n",
    "\n",
    "• Work Class = Income\n",
    "\n",
    "• Age = 58\n"
   ]
  },
  {
   "cell_type": "code",
   "execution_count": 70,
   "id": "7a0877cf",
   "metadata": {},
   "outputs": [],
   "source": [
    "# add a new row to the data frame\n",
    "df.loc[48842] = [2,3,0,2,2,4,0,0,3,1,1]"
   ]
  },
  {
   "cell_type": "code",
   "execution_count": 71,
   "id": "ae6c352b",
   "metadata": {},
   "outputs": [
    {
     "data": {
      "text/html": [
       "<div>\n",
       "<style scoped>\n",
       "    .dataframe tbody tr th:only-of-type {\n",
       "        vertical-align: middle;\n",
       "    }\n",
       "\n",
       "    .dataframe tbody tr th {\n",
       "        vertical-align: top;\n",
       "    }\n",
       "\n",
       "    .dataframe thead th {\n",
       "        text-align: right;\n",
       "    }\n",
       "</style>\n",
       "<table border=\"1\" class=\"dataframe\">\n",
       "  <thead>\n",
       "    <tr style=\"text-align: right;\">\n",
       "      <th></th>\n",
       "      <th>hours_per_week_bin</th>\n",
       "      <th>occupation_bin</th>\n",
       "      <th>msr_bin</th>\n",
       "      <th>capital_gl_bin</th>\n",
       "      <th>race_sex_bin</th>\n",
       "      <th>education_num_bin</th>\n",
       "      <th>education_bin</th>\n",
       "      <th>workclass_bin</th>\n",
       "      <th>age_bin</th>\n",
       "      <th>flag</th>\n",
       "      <th>y</th>\n",
       "    </tr>\n",
       "  </thead>\n",
       "  <tbody>\n",
       "    <tr>\n",
       "      <th>0</th>\n",
       "      <td>1</td>\n",
       "      <td>3</td>\n",
       "      <td>2</td>\n",
       "      <td>2</td>\n",
       "      <td>0</td>\n",
       "      <td>1</td>\n",
       "      <td>0</td>\n",
       "      <td>0</td>\n",
       "      <td>3</td>\n",
       "      <td>1</td>\n",
       "      <td>0</td>\n",
       "    </tr>\n",
       "    <tr>\n",
       "      <th>1</th>\n",
       "      <td>0</td>\n",
       "      <td>0</td>\n",
       "      <td>0</td>\n",
       "      <td>1</td>\n",
       "      <td>0</td>\n",
       "      <td>1</td>\n",
       "      <td>0</td>\n",
       "      <td>0</td>\n",
       "      <td>4</td>\n",
       "      <td>1</td>\n",
       "      <td>0</td>\n",
       "    </tr>\n",
       "    <tr>\n",
       "      <th>2</th>\n",
       "      <td>1</td>\n",
       "      <td>1</td>\n",
       "      <td>2</td>\n",
       "      <td>1</td>\n",
       "      <td>0</td>\n",
       "      <td>4</td>\n",
       "      <td>4</td>\n",
       "      <td>0</td>\n",
       "      <td>3</td>\n",
       "      <td>1</td>\n",
       "      <td>0</td>\n",
       "    </tr>\n",
       "    <tr>\n",
       "      <th>3</th>\n",
       "      <td>1</td>\n",
       "      <td>1</td>\n",
       "      <td>0</td>\n",
       "      <td>1</td>\n",
       "      <td>2</td>\n",
       "      <td>0</td>\n",
       "      <td>2</td>\n",
       "      <td>0</td>\n",
       "      <td>4</td>\n",
       "      <td>1</td>\n",
       "      <td>0</td>\n",
       "    </tr>\n",
       "    <tr>\n",
       "      <th>4</th>\n",
       "      <td>1</td>\n",
       "      <td>0</td>\n",
       "      <td>0</td>\n",
       "      <td>1</td>\n",
       "      <td>1</td>\n",
       "      <td>1</td>\n",
       "      <td>0</td>\n",
       "      <td>0</td>\n",
       "      <td>1</td>\n",
       "      <td>1</td>\n",
       "      <td>0</td>\n",
       "    </tr>\n",
       "    <tr>\n",
       "      <th>...</th>\n",
       "      <td>...</td>\n",
       "      <td>...</td>\n",
       "      <td>...</td>\n",
       "      <td>...</td>\n",
       "      <td>...</td>\n",
       "      <td>...</td>\n",
       "      <td>...</td>\n",
       "      <td>...</td>\n",
       "      <td>...</td>\n",
       "      <td>...</td>\n",
       "      <td>...</td>\n",
       "    </tr>\n",
       "    <tr>\n",
       "      <th>48838</th>\n",
       "      <td>1</td>\n",
       "      <td>3</td>\n",
       "      <td>1</td>\n",
       "      <td>1</td>\n",
       "      <td>2</td>\n",
       "      <td>4</td>\n",
       "      <td>4</td>\n",
       "      <td>1</td>\n",
       "      <td>2</td>\n",
       "      <td>0</td>\n",
       "      <td>0</td>\n",
       "    </tr>\n",
       "    <tr>\n",
       "      <th>48839</th>\n",
       "      <td>2</td>\n",
       "      <td>0</td>\n",
       "      <td>0</td>\n",
       "      <td>1</td>\n",
       "      <td>0</td>\n",
       "      <td>1</td>\n",
       "      <td>0</td>\n",
       "      <td>0</td>\n",
       "      <td>3</td>\n",
       "      <td>0</td>\n",
       "      <td>0</td>\n",
       "    </tr>\n",
       "    <tr>\n",
       "      <th>48840</th>\n",
       "      <td>1</td>\n",
       "      <td>3</td>\n",
       "      <td>1</td>\n",
       "      <td>2</td>\n",
       "      <td>0</td>\n",
       "      <td>1</td>\n",
       "      <td>0</td>\n",
       "      <td>0</td>\n",
       "      <td>4</td>\n",
       "      <td>0</td>\n",
       "      <td>0</td>\n",
       "    </tr>\n",
       "    <tr>\n",
       "      <th>48841</th>\n",
       "      <td>3</td>\n",
       "      <td>0</td>\n",
       "      <td>0</td>\n",
       "      <td>1</td>\n",
       "      <td>0</td>\n",
       "      <td>1</td>\n",
       "      <td>0</td>\n",
       "      <td>0</td>\n",
       "      <td>2</td>\n",
       "      <td>0</td>\n",
       "      <td>1</td>\n",
       "    </tr>\n",
       "    <tr>\n",
       "      <th>48842</th>\n",
       "      <td>2</td>\n",
       "      <td>3</td>\n",
       "      <td>0</td>\n",
       "      <td>2</td>\n",
       "      <td>2</td>\n",
       "      <td>4</td>\n",
       "      <td>0</td>\n",
       "      <td>0</td>\n",
       "      <td>3</td>\n",
       "      <td>1</td>\n",
       "      <td>1</td>\n",
       "    </tr>\n",
       "  </tbody>\n",
       "</table>\n",
       "<p>48843 rows × 11 columns</p>\n",
       "</div>"
      ],
      "text/plain": [
       "       hours_per_week_bin  occupation_bin  msr_bin  capital_gl_bin  \\\n",
       "0                       1               3        2               2   \n",
       "1                       0               0        0               1   \n",
       "2                       1               1        2               1   \n",
       "3                       1               1        0               1   \n",
       "4                       1               0        0               1   \n",
       "...                   ...             ...      ...             ...   \n",
       "48838                   1               3        1               1   \n",
       "48839                   2               0        0               1   \n",
       "48840                   1               3        1               2   \n",
       "48841                   3               0        0               1   \n",
       "48842                   2               3        0               2   \n",
       "\n",
       "       race_sex_bin  education_num_bin  education_bin  workclass_bin  age_bin  \\\n",
       "0                 0                  1              0              0        3   \n",
       "1                 0                  1              0              0        4   \n",
       "2                 0                  4              4              0        3   \n",
       "3                 2                  0              2              0        4   \n",
       "4                 1                  1              0              0        1   \n",
       "...             ...                ...            ...            ...      ...   \n",
       "48838             2                  4              4              1        2   \n",
       "48839             0                  1              0              0        3   \n",
       "48840             0                  1              0              0        4   \n",
       "48841             0                  1              0              0        2   \n",
       "48842             2                  4              0              0        3   \n",
       "\n",
       "       flag  y  \n",
       "0         1  0  \n",
       "1         1  0  \n",
       "2         1  0  \n",
       "3         1  0  \n",
       "4         1  0  \n",
       "...     ... ..  \n",
       "48838     0  0  \n",
       "48839     0  0  \n",
       "48840     0  0  \n",
       "48841     0  1  \n",
       "48842     1  1  \n",
       "\n",
       "[48843 rows x 11 columns]"
      ]
     },
     "execution_count": 71,
     "metadata": {},
     "output_type": "execute_result"
    }
   ],
   "source": [
    "df"
   ]
  },
  {
   "cell_type": "code",
   "execution_count": 74,
   "id": "5e2e15b0",
   "metadata": {},
   "outputs": [
    {
     "name": "stdout",
     "output_type": "stream",
     "text": [
      "[1 0 0 ... 0 1 1]\n"
     ]
    }
   ],
   "source": [
    "new_df= df.drop('y', axis=1)\n",
    "\n",
    "prediction = model.predict(new_df)\n",
    "print(prediction)"
   ]
  },
  {
   "cell_type": "code",
   "execution_count": 77,
   "id": "85ed7290",
   "metadata": {},
   "outputs": [
    {
     "name": "stdout",
     "output_type": "stream",
     "text": [
      "[[1.         0.        ]\n",
      " [0.6223176  0.3776824 ]\n",
      " [0.67741935 0.32258065]\n",
      " ...\n",
      " [0.24468085 0.75531915]\n",
      " [0.92857143 0.07142857]\n",
      " [0.29577465 0.70422535]]\n"
     ]
    }
   ],
   "source": [
    "pred_prob = model.predict_proba(x_test)\n",
    "print(pred_prob)"
   ]
  },
  {
   "cell_type": "markdown",
   "id": "ec9220be",
   "metadata": {},
   "source": [
    "Q.8 What is the probability that your prediction for this person is correct?\n",
    "\n",
    "A: the probability is 75.5%"
   ]
  }
 ],
 "metadata": {
  "kernelspec": {
   "display_name": "Python 3 (ipykernel)",
   "language": "python",
   "name": "python3"
  },
  "language_info": {
   "codemirror_mode": {
    "name": "ipython",
    "version": 3
   },
   "file_extension": ".py",
   "mimetype": "text/x-python",
   "name": "python",
   "nbconvert_exporter": "python",
   "pygments_lexer": "ipython3",
   "version": "3.9.13"
  }
 },
 "nbformat": 4,
 "nbformat_minor": 5
}
